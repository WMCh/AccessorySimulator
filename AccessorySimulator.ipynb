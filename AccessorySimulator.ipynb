{
  "nbformat": 4,
  "nbformat_minor": 0,
  "metadata": {
    "colab": {
      "name": "AccessorySimulator.ipynb",
      "provenance": [],
      "authorship_tag": "ABX9TyNby7amPnxw6142dTFU860L",
      "include_colab_link": true
    },
    "kernelspec": {
      "name": "python3",
      "display_name": "Python 3"
    }
  },
  "cells": [
    {
      "cell_type": "markdown",
      "metadata": {
        "id": "view-in-github",
        "colab_type": "text"
      },
      "source": [
        "<a href=\"https://colab.research.google.com/github/WMCh/AccessorySimulator/blob/main/AccessorySimulator.ipynb\" target=\"_parent\"><img src=\"https://colab.research.google.com/assets/colab-badge.svg\" alt=\"Open In Colab\"/></a>"
      ]
    },
    {
      "cell_type": "markdown",
      "metadata": {
        "id": "pmEMf5aElbGZ"
      },
      "source": [
        "1. Define some constants and probabilities."
      ]
    },
    {
      "cell_type": "code",
      "metadata": {
        "id": "TGaupHzrlTPZ"
      },
      "source": [
        "NAME = {\n",
        "    'ring': '戒指',\n",
        "    'earring': '耳饰',\n",
        "    'accessory': '配饰',\n",
        "    'bracelet': '手镯'\n",
        "}\n",
        "\n",
        "LEVEL_POOL = [60, 80, 100, 120, 140, 160]\n",
        "\n",
        "PIC_DIC = {\n",
        "    'ring': {\n",
        "        60: None,\n",
        "        80: None,\n",
        "        100: None,\n",
        "        120: None,\n",
        "        140: None,\n",
        "        160: None\n",
        "    },\n",
        "    'earring': {\n",
        "        60: None,\n",
        "        80: None,\n",
        "        100: None,\n",
        "        120: None,\n",
        "        140: None,\n",
        "        160: None\n",
        "    },\n",
        "    'accessory': {\n",
        "        60: None,\n",
        "        80: None,\n",
        "        100: None,\n",
        "        120: None,\n",
        "        140: None,\n",
        "        160: None\n",
        "    },\n",
        "    'bracelet': {\n",
        "        60: None,\n",
        "        80: None,\n",
        "        100: None,\n",
        "        120: None,\n",
        "        140: None,\n",
        "        160: None\n",
        "    }\n",
        "}\n",
        "\n",
        "NAME_DIC = {\n",
        "    'ring': {\n",
        "        60: '枫华戒',\n",
        "        80: '芙蓉戒',\n",
        "        100: '金鳞绕',\n",
        "        120: '悦碧水',\n",
        "        140: '九曜光华',\n",
        "        160: '太虚渺云'\n",
        "    },\n",
        "    'earring': {\n",
        "        60: '翠叶环',\n",
        "        80: '明月珰',\n",
        "        100: '玉蝶翩',\n",
        "        120: '点星芒',\n",
        "        140: '凤羽流苏',\n",
        "        160: '焰云霞珠'\n",
        "    },\n",
        "    'accessory': {\n",
        "        60: '芝兰佩',\n",
        "        80: '逸云佩',\n",
        "        100: '莲音玦',\n",
        "        120: '相思染',\n",
        "        140: '玄龙苍珀',\n",
        "        160: '碧海青天'\n",
        "    },\n",
        "    'bracelet': {\n",
        "        60: '香木镯',\n",
        "        80: '翡玉镯',\n",
        "        100: '墨影扣',\n",
        "        120: '花映月',\n",
        "        140: '金水菩提',\n",
        "        160: '浮雪幻音'\n",
        "    }\n",
        "}\n",
        "\n",
        "MAIN_PROP = {\n",
        "    'ring': ['伤害', '防御'],\n",
        "    'earring': ['法术伤害', '法术防御'],\n",
        "    'accessory': ['速度'],\n",
        "    'bracelet': ['封印命中等级', '抵抗封印等级']\n",
        "}\n",
        "\n",
        "MAIN_PROP_VAL = {\n",
        "    'ring': [0.2, 0.3],\n",
        "    'earring': [0.2, 0.3],\n",
        "    'accessory': [0.1, 6, 0.15, 9],\n",
        "    'bracelet': [0.2, 0.3]\n",
        "}\n",
        "\n",
        "ADDITION_PROP = {\n",
        "    'ring': ['伤害', '法术伤害', '固定伤害', '速度', '物理暴击等级', '法术暴击等级', '法术伤害结果', '治疗能力', '封印命中等级', '狂暴等级', '穿刺等级'],\n",
        "    'earring': ['伤害', '法术伤害', '固定伤害', '速度', '物理暴击等级', '法术暴击等级', '法术伤害结果', '治疗能力', '封印命中等级', '狂暴等级', '穿刺等级'],\n",
        "    'accessory': ['气血', '防御', '法术防御', '格挡值', '气血回复效果', '抵抗封印等级', '抗物理暴击等级', '抗法术暴击等级'],\n",
        "    'bracelet': ['气血', '防御', '法术防御', '格挡值', '气血回复效果', '抵抗封印等级', '抗物理暴击等级', '抗法术暴击等级']\n",
        "}\n",
        "\n",
        "ADDITION_CATE = [\n",
        "    ['速度', '法术伤害结果', '治疗能力', '狂暴等级', '穿刺等级'],\n",
        "    ['伤害', '法术伤害', '固定伤害', '物理暴击等级', '法术暴击等级', '封印命中等级', '气血回复效果'],\n",
        "    ['防御', '法术防御', '格挡值', '抵抗封印等级', '抗物理暴击等级', '抗法术暴击等级'],\n",
        "    ['气血']\n",
        "]\n",
        "\n",
        "ADDITION_PROP_VAL = [\n",
        "    [0.05, 3],\n",
        "    [0.1, 0.15],\n",
        "    [0.2, 0.3],\n",
        "    [0.7, 1.05],\n",
        "]\n",
        "\n",
        "SPECIAL_EFFECT = ['超级简易']\n",
        "\n",
        "P_SPECIAL_EFFECT = 0.05\n",
        "P_ADD_3 = 0.3\n",
        "NORMAL_SCALE_FACTOR = 0.2"
      ],
      "execution_count": 1,
      "outputs": []
    },
    {
      "cell_type": "markdown",
      "metadata": {
        "id": "5HgsjFVjlz6x"
      },
      "source": [
        "2. Define data distribution."
      ]
    },
    {
      "cell_type": "code",
      "metadata": {
        "id": "JxxWtsaMmI2A"
      },
      "source": [
        "import numpy as np\n",
        "\n",
        "\n",
        "def dist(low, high, type):\n",
        "    dist = {\n",
        "        'uniform': uniform,\n",
        "        'normal': normal\n",
        "    }\n",
        "    return dist[type](low, high)\n",
        "\n",
        "\n",
        "def uniform(low, high):\n",
        "    return int(np.random.uniform(low, high))\n",
        "\n",
        "def normal(low, high):\n",
        "    scale = low * NORMAL_SCALE_FACTOR\n",
        "    val = np.random.normal(loc=low, scale=scale)\n",
        "    if val < low:\n",
        "        val = low\n",
        "    elif val > high:\n",
        "        val = high\n",
        "    return int(val)\n"
      ],
      "execution_count": 2,
      "outputs": []
    },
    {
      "cell_type": "markdown",
      "metadata": {
        "id": "Wn04xDIlmRNx"
      },
      "source": [
        "3. Define the key attribute generator."
      ]
    },
    {
      "cell_type": "code",
      "metadata": {
        "id": "UMfVMukumTOB"
      },
      "source": [
        "import random\n",
        "\n",
        "\n",
        "def generate_main_prop(level, type, distribution='normal'):\n",
        "    prop_type = random.choice(MAIN_PROP[type])\n",
        "    if type == 'accessory':\n",
        "        low = MAIN_PROP_VAL[type][0] * level + MAIN_PROP_VAL[type][1]\n",
        "        high = MAIN_PROP_VAL[type][2] * level + MAIN_PROP_VAL[type][3]\n",
        "    else:\n",
        "        low = MAIN_PROP_VAL[type][0] * level\n",
        "        high = MAIN_PROP_VAL[type][1] * level\n",
        "    prop_val = dist(low, high, distribution)\n",
        "    return prop_type, prop_val\n",
        "\n",
        "def generate_addition_prop(level, type, p_add3=P_ADD_3, distribution='normal'):\n",
        "    add_list = []\n",
        "\n",
        "    add1_type = random.choice(ADDITION_PROP[type])\n",
        "    add1_val = generate_addition_val(level, add1_type, distribution)\n",
        "    add_list.append((add1_type, add1_val))\n",
        "\n",
        "    add2_type = random.choice(ADDITION_PROP[type])\n",
        "    add2_val = generate_addition_val(level, add2_type, distribution)\n",
        "    add_list.append((add2_type, add2_val))\n",
        "\n",
        "    if np.random.random() < p_add3:\n",
        "        add3_type = random.choice(ADDITION_PROP[type])\n",
        "        add3_val = generate_addition_val(level, add3_type, distribution)\n",
        "        add_list.append((add3_type, add3_val))\n",
        "    \n",
        "    return add_list\n",
        "\n",
        "def generate_addition_val(level, add_type, distribution='normal'):\n",
        "    if add_type in ADDITION_CATE[0]:\n",
        "        low = ADDITION_PROP_VAL[0][0] * level + ADDITION_PROP_VAL[0][1]\n",
        "        if level in [60, 80]:\n",
        "            high = low + 3\n",
        "        elif level in [100, 120]:\n",
        "            high = low + 4\n",
        "        else:\n",
        "            high = low + 5\n",
        "    else:\n",
        "        for i in range(1, 4):\n",
        "            if add_type in ADDITION_CATE[i]:\n",
        "                low = ADDITION_PROP_VAL[i][0] * level\n",
        "                high = ADDITION_PROP_VAL[i][1] * level\n",
        "    add_val = dist(low, high, distribution)\n",
        "    return add_val\n",
        "\n",
        "def generate_special_effect():\n",
        "    se = None\n",
        "    if np.random.random() < P_SPECIAL_EFFECT:\n",
        "        se = random.choice(SPECIAL_EFFECT)\n",
        "    return se\n"
      ],
      "execution_count": 3,
      "outputs": []
    },
    {
      "cell_type": "markdown",
      "metadata": {
        "id": "cMEFN6elmqrJ"
      },
      "source": [
        "4. Define accessory classes."
      ]
    },
    {
      "cell_type": "code",
      "metadata": {
        "id": "MC2K3ErfmvTU"
      },
      "source": [
        "class lingshi_base(object):\n",
        "    def __init__(self, level, type):\n",
        "        self.level = level\n",
        "        self.type = type\n",
        "        self.pic = PIC_DIC[self.type][self.level]\n",
        "        self.name = NAME_DIC[self.type][self.level]\n",
        "        self.main_prop = None\n",
        "        self.main_val = 0\n",
        "        self.addition_prop = []\n",
        "        self.special_effect = None\n",
        "\n",
        "    def authenticate(self):\n",
        "        self.special_effect = generate_special_effect()\n",
        "        self.main_prop, self.main_val = generate_main_prop(self.level, self.type)\n",
        "        self.addition_prop = generate_addition_prop(self.level, self.type)\n",
        "\n",
        "    def print(self):\n",
        "        print(f'{self.level}级{NAME[self.type]}: {self.name}')\n",
        "        print(self.main_prop, self.main_val)\n",
        "        if self.special_effect is not None:\n",
        "            print(f'特效: {self.special_effect}')\n",
        "        for i in range(len(self.addition_prop)):\n",
        "            print(self.addition_prop[i])\n",
        "\n",
        "\n",
        "class ring(lingshi_base):\n",
        "    def __init__(self, level):\n",
        "        assert level in LEVEL_POOL\n",
        "        super().__init__(level, type='ring')\n",
        "\n",
        "\n",
        "class earring(lingshi_base):\n",
        "    def __init__(self, level):\n",
        "        assert level in LEVEL_POOL\n",
        "        super().__init__(level, type='earring')\n",
        "\n",
        "\n",
        "class accessory(lingshi_base):\n",
        "    def __init__(self, level):\n",
        "        assert level in LEVEL_POOL\n",
        "        super().__init__(level, type='accessory')\n",
        "\n",
        "\n",
        "class bracelet(lingshi_base):\n",
        "    def __init__(self, level):\n",
        "        assert level in LEVEL_POOL\n",
        "        super().__init__(level, type='bracelet')"
      ],
      "execution_count": 4,
      "outputs": []
    },
    {
      "cell_type": "markdown",
      "metadata": {
        "id": "_UgSVKKXm0C8"
      },
      "source": [
        "5. Have fun!"
      ]
    },
    {
      "cell_type": "code",
      "metadata": {
        "colab": {
          "base_uri": "https://localhost:8080/"
        },
        "id": "qMLtc1Zvm2eh",
        "outputId": "49022649-22fa-4fb5-fcd4-1543f6ec3cae"
      },
      "source": [
        "r = ring(140)\n",
        "r.authenticate()\n",
        "r.print()"
      ],
      "execution_count": 8,
      "outputs": [
        {
          "output_type": "stream",
          "text": [
            "140级戒指: 九曜光华\n",
            "伤害 33\n",
            "('法术伤害结果', 10)\n",
            "('法术暴击等级', 14)\n"
          ],
          "name": "stdout"
        }
      ]
    }
  ]
}